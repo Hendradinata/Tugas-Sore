{
  "nbformat": 4,
  "nbformat_minor": 0,
  "metadata": {
    "colab": {
      "name": "Untitled16.ipynb",
      "provenance": []
    },
    "kernelspec": {
      "name": "python3",
      "display_name": "Python 3"
    },
    "language_info": {
      "name": "python"
    }
  },
  "cells": [
    {
      "cell_type": "code",
      "execution_count": null,
      "metadata": {
        "id": "U3gTWv2rJaLB"
      },
      "outputs": [],
      "source": [
        "Quiz 6\n",
        "\n",
        "Permainan dukun angka"
      ]
    },
    {
      "cell_type": "code",
      "source": [
        "from random import randint\n",
        "\n",
        "z = 1\n",
        "d= 0\n",
        "e = 0\n",
        "\n",
        "\n",
        "lanjut = True\n",
        "print(\"-------------------------\")\n",
        "print(\"| Program Dukun Angka   |\")\n",
        "print(\"-------------------------\")\n",
        "a = int(input(\"Masukan pilihan Angka Random Terkecil Untuk Komputer : \"))\n",
        "b = int(input(\"Masukan pilihan Angka Random Terbesar Untuk Komputer : \"))\n",
        "\n",
        "if a< b:\n",
        "  while lanjut == True:\n",
        "    f = int(input(\"\\nMasukan Pilihan Angka Tebakan User : \"))\n",
        "    g = randint(a,b)\n",
        "    print(\"Angka Tebakan Komputer adalah : \", g)\n",
        "    d += f\n",
        "    e += g\n",
        "    print(\"\\nJumlah Angka Tebakan user :\", d, \"\\nJumlah Angka Tebakan Komputer :\",e)\n",
        "\n",
        "    if d == e:\n",
        "      lanjut = False\n",
        "      break\n",
        "    z += 1\n",
        "      \n",
        "  print(\"\\nSelamat anda benar pada percobaan ke-\", z)\n",
        "else:\n",
        "  print(\"\\nMaaf Angka Random Terkecil Memiliki Nilai Lebih Besar Daripada Angka Terbesar\")"
      ],
      "metadata": {
        "id": "hQMgcfeLJsFY"
      },
      "execution_count": null,
      "outputs": []
    },
    {
      "cell_type": "markdown",
      "source": [
        "TUGAS SIANG\n",
        "\n",
        "membuat program dengan while dan for"
      ],
      "metadata": {
        "id": "hoCGZU56JxQh"
      }
    },
    {
      "cell_type": "code",
      "source": [
        "import random\n",
        "\n",
        "soal = 1\n",
        "nilai = 0\n",
        "t = 5\n",
        "\n",
        "print(\"--------------------------------\")\n",
        "print(\"| Program Game Quiz Perkalian  |\")\n",
        "print(\"--------------------------------\")\n",
        "a = int(input(\"Masukan Jumlah Soal : \"))\n",
        "while soal <= a:\n",
        "  print(\"Soal  : \", soal, \"/\", a)\n",
        "  print(\"Berapakah hasil perkalian berikut : \")\n",
        "  b = random.randint(-10,10)\n",
        "  c = random.randint(-10,10)\n",
        "  d = b * c\n",
        "  print(\" \", b ,\" * \", c, \" = .....\")\n",
        "  jawab = int(input(\"Masukan Jawaban : \"))\n",
        "  if jawab == d:\n",
        "    print(\"Jawaban Benar, Kamu Hebat !!\")\n",
        "    nilai += 10\n",
        "    print(\"Score : \", nilai, \"/\", a*10, \"\\n\")\n",
        "    if nilai == a*10:\n",
        "      print(\"Kamu Menjawab Semua dengan benar, Kamu sangat pintar !!\")\n",
        "      for i in range (1, t+1):\n",
        "        print((t-i) * \"  \" + (i * \"* \") + ((i-1) * \"* \"))\n",
        "  else:\n",
        "    print(\"Maaf Jawaban Salah, \", b, \" + \", c, \" = \", d)\n",
        "\n",
        "  soal +=1\n",
        "\n"
      ],
      "metadata": {
        "id": "TAssHa0SJ1_H"
      },
      "execution_count": null,
      "outputs": []
    }
  ]
}